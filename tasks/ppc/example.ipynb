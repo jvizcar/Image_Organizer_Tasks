{
 "cells": [
  {
   "cell_type": "code",
   "execution_count": 1,
   "id": "04e11161",
   "metadata": {},
   "outputs": [],
   "source": [
    "# imports\n",
    "from utils.girder_utils import login, get_region_im\n",
    "import utils.positive_pixel_count as ppc\n",
    "import numpy as np\n",
    "import matplotlib.pyplot as plt"
   ]
  },
  {
   "cell_type": "code",
   "execution_count": 2,
   "id": "821310a0",
   "metadata": {},
   "outputs": [
    {
     "name": "stdout",
     "output_type": "stream",
     "text": [
      "Login or email: jvizcar\n",
      "Password for jvizcar: ········\n"
     ]
    }
   ],
   "source": [
    "# login to girder instance\n",
    "gc = login('https://computablebrain.emory.edu/api/v1')"
   ]
  },
  {
   "cell_type": "code",
   "execution_count": null,
   "id": "a06daaab",
   "metadata": {},
   "outputs": [],
   "source": [
    "# Params\n",
    "imid = '5fb731ec61c06b4b401ba25b'\n",
    "roi_size = 1500  # ROI is a square region centered on image, this parameter is the dimension of the square\n",
    "savedir = 'sample_output'\n",
    "\n",
    "# set-up parameters to work with DAPI staining\n",
    "params = ppc.Parameters(\n",
    "    hue_value=0.05,\n",
    "    hue_width=0.15,\n",
    "    saturation_minimum=0.05,\n",
    "    intensity_upper_limit=0.95,\n",
    "    intensity_weak_threshold=0.65,\n",
    "    intensity_strong_threshold=0.35,\n",
    "    intensity_lower_limit=0.05,\n",
    ")"
   ]
  },
  {
   "cell_type": "code",
   "execution_count": null,
   "id": "67f23ef7",
   "metadata": {},
   "outputs": [],
   "source": [
    "tileinfo = gc.get(f'item/{imid}/tiles')\n",
    "\n",
    "# get coords of rectangle centered around center\n",
    "xc, yc = tileinfo['sizeX'] / 2, tileinfo['sizeY'] / 2\n",
    "\n",
    "xmin, ymin = int(xc - roi_size / 2), int(yc - roi_size / 2)\n",
    "\n",
    "# set up the region dictionary\n",
    "region = dict(\n",
    "    left=xmin, top=ymin, width=roi_size, height=roi_size\n",
    ")\n",
    "\n",
    "# output image is saved (colored for PPC results)\n",
    "output = ppc.count_image(gc, imid, params, region, save_dir=savedir, tile_dim=roi_size)"
   ]
  },
  {
   "cell_type": "code",
   "execution_count": null,
   "id": "0957738f",
   "metadata": {},
   "outputs": [],
   "source": [
    "# view image...set path of image\n",
    "im = get_region_im(gc, imid, region)\n",
    "ppc_output = np.load('sample_output/E20-106_1 Tau_left_48032_top_43040-rowInd_0_colInd_0.npy')\n",
    "\n",
    "fig = plt.figure(figsize=(10,5))\n",
    "fig.add_subplot(1, 2, 1)\n",
    "plt.imshow(im)\n",
    "fig.add_subplot(1, 2, 2)\n",
    "plt.imshow(ppc_output)\n",
    "plt.show()"
   ]
  }
 ],
 "metadata": {
  "kernelspec": {
   "display_name": "Python 3 (ipykernel)",
   "language": "python",
   "name": "python3"
  },
  "language_info": {
   "codemirror_mode": {
    "name": "ipython",
    "version": 3
   },
   "file_extension": ".py",
   "mimetype": "text/x-python",
   "name": "python",
   "nbconvert_exporter": "python",
   "pygments_lexer": "ipython3",
   "version": "3.9.7"
  }
 },
 "nbformat": 4,
 "nbformat_minor": 5
}
